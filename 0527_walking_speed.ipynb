{
 "cells": [
  {
   "cell_type": "code",
   "execution_count": null,
   "id": "233671b0",
   "metadata": {},
   "outputs": [],
   "source": [
    "import math\n",
    "import pandas as pd\n",
    "import numpy as np\n",
    "import matplotlib.pyplot as plt\n",
    "import japanize_matplotlib"
   ]
  },
  {
   "cell_type": "code",
   "execution_count": null,
   "id": "cd11755c",
   "metadata": {},
   "outputs": [],
   "source": [
    "# CSVファイルを読み込み\n",
    "df = pd.read_csv(\"0527walking_trajectory.csv\")\n",
    "\n",
    "# 必要な列があるか確認\n",
    "if not set(['time','x', 'y',]).issubset(df.columns):\n",
    "    raise ValueError(\"CSVに 'time','x', 'y',列が必要です\")\n"
   ]
  },
  {
   "cell_type": "code",
   "execution_count": null,
   "id": "2fe6ea54",
   "metadata": {},
   "outputs": [],
   "source": [
    "# CSVファイルを読み込み\n",
    "df = pd.read_csv(\"0527walking_trajectory.csv\")\n",
    "\n",
    "# # 必要な列があるか確認\n",
    "# if not set(['x', 'y', 'time']).issubset(df.columns):\n",
    "#     raise ValueError(\"CSVに'x', 'y', 'time'列が必要です\")\n",
    "\n",
    "# 必要な列があるか確認\n",
    "if not set(['time','x', 'y',]).issubset(df.columns):\n",
    "    raise ValueError(\"CSVに 'time','x', 'y',列が必要です\")\n",
    "\n",
    "# 座標差分と時間差分を計算\n",
    "dt = df['time'].diff()\n",
    "dx = df['x'].diff()\n",
    "dy = df['y'].diff()\n",
    "\n",
    "\n",
    "# 移動距離と速度を計算（速度 = 距離 / 時間）\n",
    "distance = np.sqrt(dx**2 + dy**2)\n",
    "speed = distance / dt\n",
    "\n",
    "# 1行目はNaNになるので除外\n",
    "speed = speed[1:].reset_index(drop=True)\n",
    "\n",
    "# 結果をDataFrameにまとめる\n",
    "result_df = pd.DataFrame({'speed': speed})\n",
    "\n",
    "# 出力ファイル名\n",
    "output_csv = \"output_speed.csv\"\n",
    "\n",
    "# CSV出力\n",
    "result_df.to_csv(output_csv, index=False)\n",
    "\n",
    "# 結果を表示\n",
    "print(result_df)\n",
    "\n",
    "# 時間も1行目を除いて整形（速度と対応する時間）\n",
    "time = df['time'][1:].reset_index(drop=True)\n",
    "\n",
    "# グラフ描画\n",
    "plt.figure(figsize=(10, 5))\n",
    "plt.plot(time, speed, marker='o', linestyle='-', color='blue', label='(x,y)')\n",
    "plt.xlabel('時間 (s)')\n",
    "plt.ylabel('速さ (m/s)')\n",
    "plt.title('歩行速度')\n",
    "plt.grid(True)\n",
    "plt.legend()\n",
    "\n",
    "# 原点（0,0）を含むように軸を設定\n",
    "plt.xlim(left=0)  # X軸の最小値を0に\n",
    "plt.ylim(bottom=0)  # Y軸の最小値を0に\n",
    "\n",
    "plt.tight_layout()\n",
    "plt.show()\n"
   ]
  },
  {
   "cell_type": "code",
   "execution_count": null,
   "id": "0c74e2e3",
   "metadata": {},
   "outputs": [],
   "source": []
  }
 ],
 "metadata": {
  "kernelspec": {
   "display_name": "Python 3",
   "language": "python",
   "name": "python3"
  },
  "language_info": {
   "name": "python",
   "version": "3.11.11"
  }
 },
 "nbformat": 4,
 "nbformat_minor": 5
}
